{
 "cells": [
  {
   "cell_type": "markdown",
   "metadata": {},
   "source": [
    "# Feature Engineering\n",
    "\n",
    "This notebook describes how to compute daily oceanographic features on a regular grid.\n",
    "In the demo we generate synthetic sea surface temperature (SST), chlorophyll, SSH and derived features like gradient magnitude, fronts and Okubo–Weiss.\n"
   ]
  },
  {
   "cell_type": "code",
   "execution_count": null,
   "metadata": {},
   "outputs": [],
   "source": [
    "# Run the feature computation (synthetic in demo mode)\n",
    "# Uncomment the line below to regenerate features.\n",
    "# %run -m src.compute_features --config config/params.yaml --demo"
   ]
  },
  {
   "cell_type": "code",
   "execution_count": null,
   "metadata": {},
   "outputs": [],
   "source": [
    "# Load the generated features and visualise SST and its gradient on the first day\n",
    "import matplotlib.pyplot as plt\n",
    "from scipy.io import netcdf\n",
    "import numpy as np\n",
    "# Open the NetCDF file produced by compute_features.py\n",
    "ds = netcdf.netcdf_file('data/interim/features.nc', 'r')\n",
    "lat = ds.variables['lat'][:]\n",
    "lon = ds.variables['lon'][:]\n",
    "sst = ds.variables['sst'][0]  # first day\n",
    "sst_grad = ds.variables['sst_grad'][0]\n",
    "# Plot SST\n",
    "plt.figure(figsize=(6,4))\n",
    "plt.pcolormesh(lon, lat, sst, shading='auto')\n",
    "plt.colorbar(label='SST (°C)')\n",
    "plt.title('Synthetic SST on day 0')\n",
    "plt.xlabel('Longitude')\n",
    "plt.ylabel('Latitude')\n",
    "plt.show()\n",
    "# Plot SST gradient magnitude\n",
    "plt.figure(figsize=(6,4))\n",
    "plt.pcolormesh(lon, lat, sst_grad, shading='auto')\n",
    "plt.colorbar(label='SST gradient (°C/km)')\n",
    "plt.title('SST Gradient Magnitude on day 0')\n",
    "plt.xlabel('Longitude')\n",
    "plt.ylabel('Latitude')\n",
    "plt.show()"
   ]
  }
 ],
 "metadata": {
  "kernelspec": {
   "display_name": "Python 3",
   "language": "python",
   "name": "python3"
  },
  "language_info": {
   "name": "python",
   "version": "3.10"
  }
 },
 "nbformat": 4,
 "nbformat_minor": 5
}