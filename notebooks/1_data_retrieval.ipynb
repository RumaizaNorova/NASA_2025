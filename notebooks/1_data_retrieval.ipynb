{
 "cells": [
  {
   "cell_type": "markdown",
   "metadata": {},
   "source": [
    "# Data Retrieval\n",
    "\n",
    "This notebook illustrates how to discover and download NASA satellite datasets using the `data_scout.py` and `fetch_data.py` scripts.\n",
    "In the offline demo environment we simply list the datasets and synthesise stub NetCDF files."
   ]
  },
  {
   "cell_type": "code",
   "execution_count": null,
   "metadata": {},
   "outputs": [],
   "source": [
    "# List the available datasets defined in data_scout.py\n",
    "from src.data_scout import DATASETS\n",
    "from src.utils import load_config\n",
    "cfg = load_config('config/params.yaml')\n",
    "print('Datasets to fetch:')\n",
    "for name, info in DATASETS.items():\n",
    "    print(f'- {name}: {info[\"description\"]} ({', '.join(info[\"variables\"])} variables)')"
   ]
  },
  {
   "cell_type": "code",
   "execution_count": null,
   "metadata": {},
   "outputs": [],
   "source": [
    "# In demo mode we don't actually download data; to create stub files run: \n",
    "# \n",
    "#     !python -m src.fetch_data --config config/params.yaml --demo\n",
    "# \n",
    "# Once real Earthdata credentials are configured and network is available,\n",
    "# you can remove the `--demo` flag to fetch real NetCDF subsets via Harmony."
   ]
  }
 ],
 "metadata": {
  "kernelspec": {
   "display_name": "Python 3",
   "language": "python",
   "name": "python3"
  },
  "language_info": {
   "name": "python",
   "version": "3.10"
  }
 },
 "nbformat": 4,
 "nbformat_minor": 5
}