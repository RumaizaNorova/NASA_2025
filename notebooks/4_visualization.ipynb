{
 "cells": [
  {
   "cell_type": "markdown",
   "metadata": {},
   "source": [
    "# Visualization of predicted habitat probability\n",
    "\n",
    "This notebook illustrates how to visualise the model\'s predictions. The pipeline exports a raster of habitat\n",
    "probabilities to both GeoTIFF (`web/data/habitat_prob.tif`) and PNG (`web/data/habitat_prob.png`). Here we load\n",
    "the PNG into Python, display it with a colormap, and overlay it on a geographic map using `folium` (if available).\n",
    "\n",
    "For a more interactive exploration, open the `web/index.html` file in your browser. It uses Mapbox GL or MapLibre\n",
    "to render the raster as a semi‑transparent overlay on top of a basemap."
   ]
  },
  {
   "cell_type": "code",
   "execution_count": null,
   "metadata": {},
   "outputs": [],
   "source": [
    "import os\n",
    "from PIL import Image\n",
    "import matplotlib.pyplot as plt\n",
    "import numpy as np\n",
    "\n",
    "# Path to the predicted PNG produced by predict_grid.py\n",
    "png_path = '../web/data/habitat_prob.png'\n",
    "assert os.path.exists(png_path), f'{png_path} not found; run predict_grid.py first'\n",
    "\n",
    "# Load the image\n",
    "img = Image.open(png_path)\n",
    "arr = np.array(img)\n",
    "\n",
    "# Display the image; note that the PNG already encodes the color ramp\n",
    "plt.figure(figsize=(6, 6))\n",
    "plt.imshow(arr)\n",
    "plt.title('Predicted shark habitat probability (PNG)')\n",
    "plt.axis('off')\n",
    "plt.show()"
   ]
  },
  {
   "cell_type": "code",
   "execution_count": null,
   "metadata": {},
   "outputs": [],
   "source": [
    "# Optional: interactive display with folium\n",
    "# The following cell overlays the predicted probabilities on an OpenStreetMap base using folium.\n",
    "# If folium is not installed or there is no internet connection, this cell may fail.\n",
    "\n",
    "try:\n",
    "    import folium\n",
    "    from folium.raster_layers import ImageOverlay\n",
    "    \n",
    "    # Define bounds of the region of interest from params.yaml\n",
    "    import yaml\n",
    "    with open('../config/params.yaml') as f:\n",
    "        params = yaml.safe_load(f)\n",
    "    roi = params['roi']\n",
    "    bounds = [\n",
    "        [roi['lat_min'], roi['lon_min']],\n",
    "        [roi['lat_max'], roi['lon_max']]\n",
    "    ]\n",
    "    \n",
    "    # Create a folium map centred on the ROI\n",
    "    m = folium.Map(location=[(roi['lat_min'] + roi['lat_max'])/2, (roi['lon_min'] + roi['lon_max'])/2], zoom_start=5)\n",
    "    \n",
    "    # Add the probability overlay with the same bounds\n",
    "    ImageOverlay(name='Habitat probability', image=arr, bounds=bounds, opacity=0.6).add_to(m)\n",
    "    folium.LayerControl().add_to(m)\n",
    "    m\n",
    "except Exception as e:\n",
    "    print('Interactive map could not be displayed:', e)"
   ]
  }
 ],
 "metadata": {
  "kernelspec": {
   "display_name": "Python 3",
   "language": "python",
   "name": "python3"
  },
  "language_info": {
   "name": "python",
   "pygments_lexer": "ipython3"
  }
 },
 "nbformat": 4,
 "nbformat_minor": 4
}